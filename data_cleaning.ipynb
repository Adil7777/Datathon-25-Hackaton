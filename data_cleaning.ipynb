{
 "cells": [
  {
   "cell_type": "code",
   "execution_count": 1,
   "metadata": {},
   "outputs": [],
   "source": [
    "import pandas as pd"
   ]
  },
  {
   "cell_type": "markdown",
   "metadata": {},
   "source": [
    "Exploring \"user_segment_slice.csv\" file "
   ]
  },
  {
   "cell_type": "code",
   "execution_count": 3,
   "metadata": {},
   "outputs": [
    {
     "data": {
      "text/html": [
       "<div>\n",
       "<style scoped>\n",
       "    .dataframe tbody tr th:only-of-type {\n",
       "        vertical-align: middle;\n",
       "    }\n",
       "\n",
       "    .dataframe tbody tr th {\n",
       "        vertical-align: top;\n",
       "    }\n",
       "\n",
       "    .dataframe thead th {\n",
       "        text-align: right;\n",
       "    }\n",
       "</style>\n",
       "<table border=\"1\" class=\"dataframe\">\n",
       "  <thead>\n",
       "    <tr style=\"text-align: right;\">\n",
       "      <th></th>\n",
       "      <th>date</th>\n",
       "      <th>original_client_user_id</th>\n",
       "      <th>user_segment_in_reception_id</th>\n",
       "      <th>user_id</th>\n",
       "    </tr>\n",
       "  </thead>\n",
       "  <tbody>\n",
       "    <tr>\n",
       "      <th>0</th>\n",
       "      <td>2025-01-15</td>\n",
       "      <td>6516313036</td>\n",
       "      <td>3</td>\n",
       "      <td>5628512</td>\n",
       "    </tr>\n",
       "    <tr>\n",
       "      <th>1</th>\n",
       "      <td>2025-01-01</td>\n",
       "      <td>9150752151</td>\n",
       "      <td>2</td>\n",
       "      <td>2414124</td>\n",
       "    </tr>\n",
       "    <tr>\n",
       "      <th>2</th>\n",
       "      <td>2025-01-01</td>\n",
       "      <td>8147693188</td>\n",
       "      <td>2</td>\n",
       "      <td>2377888</td>\n",
       "    </tr>\n",
       "    <tr>\n",
       "      <th>3</th>\n",
       "      <td>2025-01-15</td>\n",
       "      <td>5704612099</td>\n",
       "      <td>3</td>\n",
       "      <td>2925605</td>\n",
       "    </tr>\n",
       "    <tr>\n",
       "      <th>4</th>\n",
       "      <td>2025-01-15</td>\n",
       "      <td>1284838824</td>\n",
       "      <td>2</td>\n",
       "      <td>7852567</td>\n",
       "    </tr>\n",
       "  </tbody>\n",
       "</table>\n",
       "</div>"
      ],
      "text/plain": [
       "         date  original_client_user_id  user_segment_in_reception_id  user_id\n",
       "0  2025-01-15               6516313036                             3  5628512\n",
       "1  2025-01-01               9150752151                             2  2414124\n",
       "2  2025-01-01               8147693188                             2  2377888\n",
       "3  2025-01-15               5704612099                             3  2925605\n",
       "4  2025-01-15               1284838824                             2  7852567"
      ]
     },
     "execution_count": 3,
     "metadata": {},
     "output_type": "execute_result"
    }
   ],
   "source": [
    "user_segment_slice = pd.read_csv(\"Encrypted Datasets/user_segment_slice.csv\")\n",
    "user_segment_slice.head()"
   ]
  },
  {
   "cell_type": "code",
   "execution_count": 6,
   "metadata": {},
   "outputs": [
    {
     "name": "stdout",
     "output_type": "stream",
     "text": [
      "<class 'pandas.core.frame.DataFrame'>\n",
      "RangeIndex: 8122657 entries, 0 to 8122656\n",
      "Data columns (total 4 columns):\n",
      " #   Column                        Dtype \n",
      "---  ------                        ----- \n",
      " 0   date                          object\n",
      " 1   original_client_user_id       int64 \n",
      " 2   user_segment_in_reception_id  int64 \n",
      " 3   user_id                       int64 \n",
      "dtypes: int64(3), object(1)\n",
      "memory usage: 247.9+ MB\n"
     ]
    }
   ],
   "source": [
    "user_segment_slice.info()"
   ]
  },
  {
   "cell_type": "code",
   "execution_count": 8,
   "metadata": {},
   "outputs": [
    {
     "data": {
      "text/plain": [
       "date                            0\n",
       "original_client_user_id         0\n",
       "user_segment_in_reception_id    0\n",
       "user_id                         0\n",
       "dtype: int64"
      ]
     },
     "execution_count": 8,
     "metadata": {},
     "output_type": "execute_result"
    }
   ],
   "source": [
    "user_segment_slice.isnull().sum()"
   ]
  },
  {
   "cell_type": "code",
   "execution_count": 12,
   "metadata": {},
   "outputs": [
    {
     "name": "stdout",
     "output_type": "stream",
     "text": [
      "Unique number of user_id for 'user_segment_slice' -  516128\n",
      "Unique number of original_client_user_id for 'user_segment_slice' -  261541\n"
     ]
    }
   ],
   "source": [
    "print(\"Unique number of user_id for 'user_segment_slice' - \", user_segment_slice['user_id'].nunique())\n",
    "\n",
    "print(\"Unique number of original_client_user_id for 'user_segment_slice' - \", user_segment_slice[\"original_client_user_id\"].nunique())"
   ]
  },
  {
   "cell_type": "code",
   "execution_count": 14,
   "metadata": {},
   "outputs": [
    {
     "data": {
      "text/plain": [
       "array([ 3,  2,  9,  7,  8,  5,  4,  6, 10,  1, 12, 11])"
      ]
     },
     "execution_count": 14,
     "metadata": {},
     "output_type": "execute_result"
    }
   ],
   "source": [
    "user_segment_slice['user_segment_in_reception_id'].unique()"
   ]
  },
  {
   "cell_type": "markdown",
   "metadata": {},
   "source": [
    "Exploring \"users_events_slice_1.csv\" file"
   ]
  },
  {
   "cell_type": "code",
   "execution_count": 15,
   "metadata": {},
   "outputs": [
    {
     "data": {
      "text/html": [
       "<div>\n",
       "<style scoped>\n",
       "    .dataframe tbody tr th:only-of-type {\n",
       "        vertical-align: middle;\n",
       "    }\n",
       "\n",
       "    .dataframe tbody tr th {\n",
       "        vertical-align: top;\n",
       "    }\n",
       "\n",
       "    .dataframe thead th {\n",
       "        text-align: right;\n",
       "    }\n",
       "</style>\n",
       "<table border=\"1\" class=\"dataframe\">\n",
       "  <thead>\n",
       "    <tr style=\"text-align: right;\">\n",
       "      <th></th>\n",
       "      <th>id</th>\n",
       "      <th>user_id</th>\n",
       "      <th>name</th>\n",
       "      <th>date_mod</th>\n",
       "    </tr>\n",
       "  </thead>\n",
       "  <tbody>\n",
       "    <tr>\n",
       "      <th>0</th>\n",
       "      <td>778739486</td>\n",
       "      <td>9821728</td>\n",
       "      <td>Change in management</td>\n",
       "      <td>2025-01-01 00:00:07.008</td>\n",
       "    </tr>\n",
       "    <tr>\n",
       "      <th>1</th>\n",
       "      <td>778739492</td>\n",
       "      <td>5970559</td>\n",
       "      <td>Trade result successful</td>\n",
       "      <td>2025-01-01 00:00:08.018</td>\n",
       "    </tr>\n",
       "    <tr>\n",
       "      <th>2</th>\n",
       "      <td>778739497</td>\n",
       "      <td>1162986</td>\n",
       "      <td>Trade result successful</td>\n",
       "      <td>2025-01-01 00:00:08.396</td>\n",
       "    </tr>\n",
       "    <tr>\n",
       "      <th>3</th>\n",
       "      <td>778739498</td>\n",
       "      <td>8835246</td>\n",
       "      <td>User logged in</td>\n",
       "      <td>2025-01-01 00:00:09.433</td>\n",
       "    </tr>\n",
       "    <tr>\n",
       "      <th>4</th>\n",
       "      <td>778739499</td>\n",
       "      <td>8835246</td>\n",
       "      <td>Authentication completed</td>\n",
       "      <td>2025-01-01 00:00:09.440</td>\n",
       "    </tr>\n",
       "  </tbody>\n",
       "</table>\n",
       "</div>"
      ],
      "text/plain": [
       "          id  user_id                      name                 date_mod\n",
       "0  778739486  9821728    Change in management    2025-01-01 00:00:07.008\n",
       "1  778739492  5970559   Trade result successful  2025-01-01 00:00:08.018\n",
       "2  778739497  1162986   Trade result successful  2025-01-01 00:00:08.396\n",
       "3  778739498  8835246            User logged in  2025-01-01 00:00:09.433\n",
       "4  778739499  8835246  Authentication completed  2025-01-01 00:00:09.440"
      ]
     },
     "execution_count": 15,
     "metadata": {},
     "output_type": "execute_result"
    }
   ],
   "source": [
    "user_events_1 = pd.read_csv(\"Encrypted Datasets/users_events_slice_1.csv\")\n",
    "user_events_1.head()"
   ]
  },
  {
   "cell_type": "code",
   "execution_count": 16,
   "metadata": {},
   "outputs": [
    {
     "name": "stdout",
     "output_type": "stream",
     "text": [
      "<class 'pandas.core.frame.DataFrame'>\n",
      "RangeIndex: 9626742 entries, 0 to 9626741\n",
      "Data columns (total 4 columns):\n",
      " #   Column    Dtype \n",
      "---  ------    ----- \n",
      " 0   id        int64 \n",
      " 1   user_id   int64 \n",
      " 2   name      object\n",
      " 3   date_mod  object\n",
      "dtypes: int64(2), object(2)\n",
      "memory usage: 293.8+ MB\n"
     ]
    }
   ],
   "source": [
    "user_events_1.info()"
   ]
  },
  {
   "cell_type": "code",
   "execution_count": 17,
   "metadata": {},
   "outputs": [
    {
     "name": "stdout",
     "output_type": "stream",
     "text": [
      "Unique number of user_id for 'user_events_1' -  1138243\n",
      "Unique number of name for 'user_events_1' -  90\n",
      "Unique number of id for 'user_events_1' -  9626742\n"
     ]
    }
   ],
   "source": [
    "print(\"Unique number of user_id for 'user_events_1' - \", user_events_1['user_id'].nunique())\n",
    "print(\"Unique number of name for 'user_events_1' - \", user_events_1[\"name\"].nunique())\n",
    "print(\"Unique number of id for 'user_events_1' - \", user_events_1[\"id\"].nunique())\n",
    "\n",
    "# no need to use \"id\"\n"
   ]
  },
  {
   "cell_type": "code",
   "execution_count": 18,
   "metadata": {},
   "outputs": [
    {
     "data": {
      "text/plain": [
       "array(['Change in management  ', 'Trade result successful',\n",
       "       'User logged in', 'Authentication completed',\n",
       "       'Select Other Account for Deposit Top-Up  ',\n",
       "       'Unable to create account', 'Security-related session initiated',\n",
       "       'Trade order placed', 'Account successfully created for user',\n",
       "       'Account setup completed successfully',\n",
       "       'Initiated account registration', 'Demo login successful',\n",
       "       'Remove trading order', 'User profile status changed',\n",
       "       'Account set up through a mobile device',\n",
       "       'User session established', 'Password recovery completed',\n",
       "       'Login restored', 'Transfer Money to Deposit  ',\n",
       "       'Bank used to top up account', 'Deposit voucher ready for use',\n",
       "       'Withdrawal Successful  ', 'IPO participation option selected',\n",
       "       'Long-term placement successful  ', 'Card used to top up account',\n",
       "       'Deposit Top-Up via Card Successful  ',\n",
       "       'Select Withdrawal Method  ', 'Message cabinet accessed  ',\n",
       "       'Deposit Top-Up via Card Failed  ',\n",
       "       'Chosen a pricing plan for the accoun',\n",
       "       'Account opened successfully', 'Switched to live environment',\n",
       "       'UTM parameters updated', 'Referred account inactive for 30 days',\n",
       "       'Total assets minus liabilities',\n",
       "       'Currency trading accounts for assets',\n",
       "       'Net assets and designated accounts',\n",
       "       'Long-term placement 4 days prior to completion  ',\n",
       "       'Withdraw from Deposit  ',\n",
       "       'Mobile number was linked to the account ',\n",
       "       'Mobile number verification completed ',\n",
       "       'Initiate Deposit Top-Up  ', 'Cancel long-term placement  ',\n",
       "       'Account documents submitted', 'Select Card for Deposit Top-Up  ',\n",
       "       'Select Bank for Deposit Top-Up  ', 'End account',\n",
       "       'New account created via referral',\n",
       "       'Complete long-term placement  ',\n",
       "       'Account registered under a personal name',\n",
       "       'Account-related SMS sent again', 'Pricing plan modified',\n",
       "       'Referral enrollment finalized', 'Fourth stage finalized',\n",
       "       'Personal data submitted', 'UTM marketing settings changed',\n",
       "       'Trading activity over 30 days', 'Trading activity over 60 days',\n",
       "       'Login details changed',\n",
       "       'Task handler reassigned due to manager change',\n",
       "       'Fifth stage finalized', 'Account contract signed',\n",
       "       'Phone number displayed', 'Push notification tokens refreshed',\n",
       "       'Trade IPO stock', 'Session activity over 30 days',\n",
       "       'Logged as admin ', 'Email verification', 'User role updated',\n",
       "       'Subordination entry deleted', 'User profile verified',\n",
       "       'Subordination entry removed', 'Subordination connection removed',\n",
       "       'Subordination status applied', 'Order price limits defined',\n",
       "       'Trade instruction removed', 'Security discount updated',\n",
       "       'Location verification', 'User opted in',\n",
       "       'Account created for a business or organization',\n",
       "       'Errors in account documents', 'Run ibo_update_company',\n",
       "       'Identity confirmed via WorldCheck', 'Reception service updated',\n",
       "       'Subordination entry substituted', 'apply_instrument_limit',\n",
       "       'User credentials or status updated', 'File removal',\n",
       "       'Dormant Account Status Updated  ',\n",
       "       'Fourth referral account registered'], dtype=object)"
      ]
     },
     "execution_count": 18,
     "metadata": {},
     "output_type": "execute_result"
    }
   ],
   "source": [
    "user_events_1['name'].unique()"
   ]
  },
  {
   "cell_type": "markdown",
   "metadata": {},
   "source": [
    "Exploring \"body_users.csv\""
   ]
  },
  {
   "cell_type": "code",
   "execution_count": 19,
   "metadata": {},
   "outputs": [
    {
     "data": {
      "text/html": [
       "<div>\n",
       "<style scoped>\n",
       "    .dataframe tbody tr th:only-of-type {\n",
       "        vertical-align: middle;\n",
       "    }\n",
       "\n",
       "    .dataframe tbody tr th {\n",
       "        vertical-align: top;\n",
       "    }\n",
       "\n",
       "    .dataframe thead th {\n",
       "        text-align: right;\n",
       "    }\n",
       "</style>\n",
       "<table border=\"1\" class=\"dataframe\">\n",
       "  <thead>\n",
       "    <tr style=\"text-align: right;\">\n",
       "      <th></th>\n",
       "      <th>id</th>\n",
       "      <th>original_client_user_id</th>\n",
       "      <th>sex_type</th>\n",
       "      <th>age_segment</th>\n",
       "      <th>Канал привлечения</th>\n",
       "      <th>acquisition_channel_lvl_2</th>\n",
       "      <th>acquisition_channel_lvl_3</th>\n",
       "    </tr>\n",
       "  </thead>\n",
       "  <tbody>\n",
       "    <tr>\n",
       "      <th>0</th>\n",
       "      <td>5981029</td>\n",
       "      <td>7788617545</td>\n",
       "      <td>М</td>\n",
       "      <td>55 лет +</td>\n",
       "      <td>Рефералка Sales</td>\n",
       "      <td>Рефералка Sales</td>\n",
       "      <td>Рефералка Sales</td>\n",
       "    </tr>\n",
       "    <tr>\n",
       "      <th>1</th>\n",
       "      <td>9084314</td>\n",
       "      <td>8592491475</td>\n",
       "      <td>М</td>\n",
       "      <td>35-44 лет</td>\n",
       "      <td>Банк</td>\n",
       "      <td>Банк</td>\n",
       "      <td>Банк</td>\n",
       "    </tr>\n",
       "    <tr>\n",
       "      <th>2</th>\n",
       "      <td>1461670</td>\n",
       "      <td>6606290372</td>\n",
       "      <td>Ж</td>\n",
       "      <td>35-44 лет</td>\n",
       "      <td>Рефералка Sales</td>\n",
       "      <td>Рефералка Sales</td>\n",
       "      <td>Рефералка Sales</td>\n",
       "    </tr>\n",
       "    <tr>\n",
       "      <th>3</th>\n",
       "      <td>5891305</td>\n",
       "      <td>7169207061</td>\n",
       "      <td>Ж</td>\n",
       "      <td>55 лет +</td>\n",
       "      <td>Маркетинг KZ</td>\n",
       "      <td>Реферальные</td>\n",
       "      <td>Реферрер не определен</td>\n",
       "    </tr>\n",
       "    <tr>\n",
       "      <th>4</th>\n",
       "      <td>7353391</td>\n",
       "      <td>2506521164</td>\n",
       "      <td>М</td>\n",
       "      <td>45-54 лет</td>\n",
       "      <td>Белиз</td>\n",
       "      <td>Белиз</td>\n",
       "      <td>Белиз</td>\n",
       "    </tr>\n",
       "  </tbody>\n",
       "</table>\n",
       "</div>"
      ],
      "text/plain": [
       "        id  original_client_user_id sex_type age_segment Канал привлечения  \\\n",
       "0  5981029               7788617545        М    55 лет +   Рефералка Sales   \n",
       "1  9084314               8592491475        М   35-44 лет              Банк   \n",
       "2  1461670               6606290372        Ж   35-44 лет   Рефералка Sales   \n",
       "3  5891305               7169207061        Ж    55 лет +      Маркетинг KZ   \n",
       "4  7353391               2506521164        М   45-54 лет             Белиз   \n",
       "\n",
       "  acquisition_channel_lvl_2 acquisition_channel_lvl_3  \n",
       "0           Рефералка Sales           Рефералка Sales  \n",
       "1                      Банк                      Банк  \n",
       "2           Рефералка Sales           Рефералка Sales  \n",
       "3               Реферальные     Реферрер не определен  \n",
       "4                     Белиз                     Белиз  "
      ]
     },
     "execution_count": 19,
     "metadata": {},
     "output_type": "execute_result"
    }
   ],
   "source": [
    "body_users_encrypted = pd.read_csv(\"Encrypted Datasets/body_users.csv\")\n",
    "body_users_encrypted.head()"
   ]
  },
  {
   "cell_type": "code",
   "execution_count": 20,
   "metadata": {},
   "outputs": [
    {
     "name": "stdout",
     "output_type": "stream",
     "text": [
      "<class 'pandas.core.frame.DataFrame'>\n",
      "RangeIndex: 612602 entries, 0 to 612601\n",
      "Data columns (total 7 columns):\n",
      " #   Column                     Non-Null Count   Dtype \n",
      "---  ------                     --------------   ----- \n",
      " 0   id                         612602 non-null  int64 \n",
      " 1   original_client_user_id    612602 non-null  int64 \n",
      " 2   sex_type                   612602 non-null  object\n",
      " 3   age_segment                612602 non-null  object\n",
      " 4   Канал привлечения          612602 non-null  object\n",
      " 5   acquisition_channel_lvl_2  612602 non-null  object\n",
      " 6   acquisition_channel_lvl_3  612602 non-null  object\n",
      "dtypes: int64(2), object(5)\n",
      "memory usage: 32.7+ MB\n"
     ]
    }
   ],
   "source": [
    "body_users_encrypted.info()"
   ]
  },
  {
   "cell_type": "code",
   "execution_count": 21,
   "metadata": {},
   "outputs": [
    {
     "name": "stdout",
     "output_type": "stream",
     "text": [
      "Unique number of original_client_user_id for 'body_users_encrypted' -  299866\n",
      "Unique number of sex_type for 'body_users_encrypted' -  3\n",
      "Unique number of age_segment for 'body_users_encrypted' -  7\n",
      "Unique number of Канал привлечения for 'body_users_encrypted' -  5\n"
     ]
    }
   ],
   "source": [
    "print(\"Unique number of original_client_user_id for 'body_users_encrypted' - \", body_users_encrypted['original_client_user_id'].nunique())\n",
    "print(\"Unique number of sex_type for 'body_users_encrypted' - \", body_users_encrypted['sex_type'].nunique())\n",
    "print(\"Unique number of age_segment for 'body_users_encrypted' - \", body_users_encrypted['age_segment'].nunique())\n",
    "print(\"Unique number of Канал привлечения for 'body_users_encrypted' - \", body_users_encrypted['Канал привлечения'].nunique())"
   ]
  },
  {
   "cell_type": "code",
   "execution_count": 22,
   "metadata": {},
   "outputs": [
    {
     "data": {
      "text/plain": [
       "array(['М', 'Ж', 'Не указано клиентом'], dtype=object)"
      ]
     },
     "execution_count": 22,
     "metadata": {},
     "output_type": "execute_result"
    }
   ],
   "source": [
    "body_users_encrypted['sex_type'].unique()"
   ]
  },
  {
   "cell_type": "code",
   "execution_count": 23,
   "metadata": {},
   "outputs": [
    {
     "data": {
      "text/plain": [
       "array(['55 лет +', '35-44 лет', '45-54 лет', '25-34 лет', '18-24 лет',\n",
       "       '<18 лет', 'Не указано клиентом'], dtype=object)"
      ]
     },
     "execution_count": 23,
     "metadata": {},
     "output_type": "execute_result"
    }
   ],
   "source": [
    "body_users_encrypted['age_segment'].unique()"
   ]
  },
  {
   "cell_type": "code",
   "execution_count": 24,
   "metadata": {},
   "outputs": [
    {
     "data": {
      "text/plain": [
       "array(['Рефералка Sales', 'Банк', 'Маркетинг KZ', 'Белиз', 'Органика'],\n",
       "      dtype=object)"
      ]
     },
     "execution_count": 24,
     "metadata": {},
     "output_type": "execute_result"
    }
   ],
   "source": [
    "body_users_encrypted['Канал привлечения'].unique()"
   ]
  },
  {
   "cell_type": "markdown",
   "metadata": {},
   "source": [
    "Idea: Filter user_events_slice_1 - user_events_slice_6 by deleting \"user_id's\" that are not present in \"user_segment_slice\""
   ]
  },
  {
   "cell_type": "code",
   "execution_count": 25,
   "metadata": {},
   "outputs": [
    {
     "name": "stdout",
     "output_type": "stream",
     "text": [
      "Original user_events_1 shape: (9626742, 4)\n",
      "Filtered user_events_1 shape: (6243659, 4)\n"
     ]
    }
   ],
   "source": [
    "# Before filtering - check the original size\n",
    "print(f\"Original user_events_1 shape: {user_events_1.shape}\")\n",
    "\n",
    "# Filter the dataframe\n",
    "user_events_1 = user_events_1[user_events_1['user_id'].isin(user_segment_slice['user_id'])]\n",
    "\n",
    "# After filtering - verify the result\n",
    "print(f\"Filtered user_events_1 shape: {user_events_1.shape}\")"
   ]
  },
  {
   "cell_type": "code",
   "execution_count": 26,
   "metadata": {},
   "outputs": [
    {
     "data": {
      "text/plain": [
       "346899"
      ]
     },
     "execution_count": 26,
     "metadata": {},
     "output_type": "execute_result"
    }
   ],
   "source": [
    "user_events_1['user_id'].nunique()"
   ]
  },
  {
   "cell_type": "markdown",
   "metadata": {},
   "source": [
    "Do the same with other \"users_events_slice\" files and combine them together"
   ]
  },
  {
   "cell_type": "code",
   "execution_count": 27,
   "metadata": {},
   "outputs": [
    {
     "name": "stdout",
     "output_type": "stream",
     "text": [
      "Original user_events_2 shape: (7927996, 4)\n",
      "Filtered user_events_2 shape: (5699896, 4)\n",
      "Unique number of user_id for 'user_events_2' -  158351\n"
     ]
    }
   ],
   "source": [
    "# Filtering the second user events slice\n",
    "\n",
    "user_events_2 = pd.read_csv(\"Encrypted Datasets/users_events_slice_2.csv\")\n",
    "print(f\"Original user_events_2 shape: {user_events_2.shape}\")\n",
    "user_events_2 = user_events_2[user_events_2['user_id'].isin(user_segment_slice['user_id'])]\n",
    "print(f\"Filtered user_events_2 shape: {user_events_2.shape}\")\n",
    "print(\"Unique number of user_id for 'user_events_2' - \", user_events_2['user_id'].nunique())"
   ]
  },
  {
   "cell_type": "code",
   "execution_count": 28,
   "metadata": {},
   "outputs": [
    {
     "name": "stdout",
     "output_type": "stream",
     "text": [
      "Original user_events_3 shape: (6960203, 4)\n",
      "Filtered user_events_3 shape: (4569257, 4)\n",
      "Unique number of user_id for 'user_events_3' -  157813\n"
     ]
    }
   ],
   "source": [
    "# Filtering the third user events slice\n",
    "\n",
    "user_events_3 = pd.read_csv(\"Encrypted Datasets/users_events_slice_3.csv\")\n",
    "print(f\"Original user_events_3 shape: {user_events_3.shape}\")\n",
    "user_events_3 = user_events_3[user_events_3['user_id'].isin(user_segment_slice['user_id'])]\n",
    "print(f\"Filtered user_events_3 shape: {user_events_3.shape}\")\n",
    "print(\"Unique number of user_id for 'user_events_3' - \", user_events_3['user_id'].nunique())"
   ]
  },
  {
   "cell_type": "code",
   "execution_count": 29,
   "metadata": {},
   "outputs": [
    {
     "name": "stdout",
     "output_type": "stream",
     "text": [
      "Original user_events_4 shape: (5834959, 4)\n",
      "Filtered user_events_4 shape: (3815098, 4)\n",
      "Unique number of user_id for 'user_events_4' -  159777\n"
     ]
    }
   ],
   "source": [
    "# Filtering the fourth user events slice\n",
    "\n",
    "user_events_4 = pd.read_csv(\"Encrypted Datasets/users_events_slice_4.csv\")\n",
    "print(f\"Original user_events_4 shape: {user_events_4.shape}\")\n",
    "user_events_4 = user_events_4[user_events_4['user_id'].isin(user_segment_slice['user_id'])]\n",
    "print(f\"Filtered user_events_4 shape: {user_events_4.shape}\")\n",
    "print(\"Unique number of user_id for 'user_events_4' - \", user_events_4['user_id'].nunique())\n"
   ]
  },
  {
   "cell_type": "code",
   "execution_count": 30,
   "metadata": {},
   "outputs": [
    {
     "name": "stdout",
     "output_type": "stream",
     "text": [
      "Original user_events_5 shape: (6080501, 4)\n",
      "Filtered user_events_5 shape: (4028697, 4)\n",
      "Unique number of user_id for 'user_events_5' -  151882\n"
     ]
    }
   ],
   "source": [
    "# Filtering the fifth user events slice\n",
    "\n",
    "user_events_5 = pd.read_csv(\"Encrypted Datasets/users_events_slice_5.csv\")\n",
    "print(f\"Original user_events_5 shape: {user_events_5.shape}\")\n",
    "user_events_5 = user_events_5[user_events_5['user_id'].isin(user_segment_slice['user_id'])]\n",
    "print(f\"Filtered user_events_5 shape: {user_events_5.shape}\")\n",
    "print(\"Unique number of user_id for 'user_events_5' - \", user_events_5['user_id'].nunique())\n"
   ]
  },
  {
   "cell_type": "code",
   "execution_count": 32,
   "metadata": {},
   "outputs": [
    {
     "name": "stdout",
     "output_type": "stream",
     "text": [
      "Original user_events_6 shape: (4882177, 4)\n",
      "Filtered user_events_6 shape: (3386212, 4)\n",
      "Unique number of user_id for 'user_events_6' -  145466\n"
     ]
    }
   ],
   "source": [
    "# Filtering the sixth user events slice\n",
    "\n",
    "user_events_6 = pd.read_csv(\"Encrypted Datasets/users_events_slice_6.csv\")\n",
    "print(f\"Original user_events_6 shape: {user_events_6.shape}\")\n",
    "user_events_6 = user_events_6[user_events_6['user_id'].isin(user_segment_slice['user_id'])]\n",
    "print(f\"Filtered user_events_6 shape: {user_events_6.shape}\")\n",
    "print(\"Unique number of user_id for 'user_events_6' - \", user_events_6['user_id'].nunique())"
   ]
  },
  {
   "cell_type": "code",
   "execution_count": 33,
   "metadata": {},
   "outputs": [
    {
     "name": "stdout",
     "output_type": "stream",
     "text": [
      "Concatenated user_events shape: (27742819, 4)\n",
      "Unique number of user_id for concatenated 'user_events' -  419215\n"
     ]
    }
   ],
   "source": [
    "# Concatenating all filtered user events slices\n",
    "\n",
    "user_events = pd.concat([user_events_1, user_events_2, user_events_3, user_events_4, user_events_5, user_events_6], ignore_index=True)\n",
    "print(f\"Concatenated user_events shape: {user_events.shape}\")\n",
    "print(\"Unique number of user_id for concatenated 'user_events' - \", user_events['user_id'].nunique())"
   ]
  },
  {
   "cell_type": "code",
   "execution_count": 34,
   "metadata": {},
   "outputs": [
    {
     "data": {
      "text/html": [
       "<div>\n",
       "<style scoped>\n",
       "    .dataframe tbody tr th:only-of-type {\n",
       "        vertical-align: middle;\n",
       "    }\n",
       "\n",
       "    .dataframe tbody tr th {\n",
       "        vertical-align: top;\n",
       "    }\n",
       "\n",
       "    .dataframe thead th {\n",
       "        text-align: right;\n",
       "    }\n",
       "</style>\n",
       "<table border=\"1\" class=\"dataframe\">\n",
       "  <thead>\n",
       "    <tr style=\"text-align: right;\">\n",
       "      <th></th>\n",
       "      <th>id</th>\n",
       "      <th>user_id</th>\n",
       "      <th>name</th>\n",
       "      <th>date_mod</th>\n",
       "    </tr>\n",
       "  </thead>\n",
       "  <tbody>\n",
       "    <tr>\n",
       "      <th>0</th>\n",
       "      <td>778739492</td>\n",
       "      <td>5970559</td>\n",
       "      <td>Trade result successful</td>\n",
       "      <td>2025-01-01 00:00:08.018</td>\n",
       "    </tr>\n",
       "    <tr>\n",
       "      <th>1</th>\n",
       "      <td>778739498</td>\n",
       "      <td>8835246</td>\n",
       "      <td>User logged in</td>\n",
       "      <td>2025-01-01 00:00:09.433</td>\n",
       "    </tr>\n",
       "    <tr>\n",
       "      <th>2</th>\n",
       "      <td>778739499</td>\n",
       "      <td>8835246</td>\n",
       "      <td>Authentication completed</td>\n",
       "      <td>2025-01-01 00:00:09.440</td>\n",
       "    </tr>\n",
       "    <tr>\n",
       "      <th>3</th>\n",
       "      <td>778739501</td>\n",
       "      <td>8835246</td>\n",
       "      <td>User logged in</td>\n",
       "      <td>2025-01-01 00:00:10.109</td>\n",
       "    </tr>\n",
       "    <tr>\n",
       "      <th>4</th>\n",
       "      <td>778739502</td>\n",
       "      <td>8835246</td>\n",
       "      <td>Authentication completed</td>\n",
       "      <td>2025-01-01 00:00:10.114</td>\n",
       "    </tr>\n",
       "  </tbody>\n",
       "</table>\n",
       "</div>"
      ],
      "text/plain": [
       "          id  user_id                      name                 date_mod\n",
       "0  778739492  5970559   Trade result successful  2025-01-01 00:00:08.018\n",
       "1  778739498  8835246            User logged in  2025-01-01 00:00:09.433\n",
       "2  778739499  8835246  Authentication completed  2025-01-01 00:00:09.440\n",
       "3  778739501  8835246            User logged in  2025-01-01 00:00:10.109\n",
       "4  778739502  8835246  Authentication completed  2025-01-01 00:00:10.114"
      ]
     },
     "execution_count": 34,
     "metadata": {},
     "output_type": "execute_result"
    }
   ],
   "source": [
    "user_events.head()"
   ]
  },
  {
   "cell_type": "code",
   "execution_count": 35,
   "metadata": {},
   "outputs": [
    {
     "data": {
      "text/plain": [
       "27742819"
      ]
     },
     "execution_count": 35,
     "metadata": {},
     "output_type": "execute_result"
    }
   ],
   "source": [
    "user_events['id'].nunique()"
   ]
  },
  {
   "cell_type": "code",
   "execution_count": 37,
   "metadata": {},
   "outputs": [],
   "source": [
    "# saving the filtered and concatenated user events to a new CSV file\n",
    "\n",
    "user_events.to_csv(\"Encrypted Datasets/filtered_user_events.csv\", index=False)"
   ]
  }
 ],
 "metadata": {
  "kernelspec": {
   "display_name": "Python 3",
   "language": "python",
   "name": "python3"
  },
  "language_info": {
   "codemirror_mode": {
    "name": "ipython",
    "version": 3
   },
   "file_extension": ".py",
   "mimetype": "text/x-python",
   "name": "python",
   "nbconvert_exporter": "python",
   "pygments_lexer": "ipython3",
   "version": "3.9.10"
  }
 },
 "nbformat": 4,
 "nbformat_minor": 2
}
