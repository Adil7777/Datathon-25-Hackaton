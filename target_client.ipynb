{
 "cells": [
  {
   "cell_type": "code",
   "execution_count": 10,
   "metadata": {},
   "outputs": [],
   "source": [
    "import pandas as pd\n",
    "import numpy as np"
   ]
  },
  {
   "cell_type": "code",
   "execution_count": 3,
   "metadata": {},
   "outputs": [],
   "source": [
    "user_events = pd.read_csv('Encrypted Datasets/filtered_user_events.csv')\n",
    "user_segments = pd.read_csv('Encrypted Datasets/user_segment_slice.csv')\n",
    "body_users = pd.read_csv('Encrypted Datasets/body_users.csv')"
   ]
  },
  {
   "cell_type": "code",
   "execution_count": 5,
   "metadata": {},
   "outputs": [
    {
     "data": {
      "text/html": [
       "<div>\n",
       "<style scoped>\n",
       "    .dataframe tbody tr th:only-of-type {\n",
       "        vertical-align: middle;\n",
       "    }\n",
       "\n",
       "    .dataframe tbody tr th {\n",
       "        vertical-align: top;\n",
       "    }\n",
       "\n",
       "    .dataframe thead th {\n",
       "        text-align: right;\n",
       "    }\n",
       "</style>\n",
       "<table border=\"1\" class=\"dataframe\">\n",
       "  <thead>\n",
       "    <tr style=\"text-align: right;\">\n",
       "      <th></th>\n",
       "      <th>id</th>\n",
       "      <th>user_id</th>\n",
       "      <th>name</th>\n",
       "      <th>date_mod</th>\n",
       "    </tr>\n",
       "  </thead>\n",
       "  <tbody>\n",
       "    <tr>\n",
       "      <th>0</th>\n",
       "      <td>778739492</td>\n",
       "      <td>5970559</td>\n",
       "      <td>Trade result successful</td>\n",
       "      <td>2025-01-01 00:00:08.018</td>\n",
       "    </tr>\n",
       "    <tr>\n",
       "      <th>1</th>\n",
       "      <td>778739498</td>\n",
       "      <td>8835246</td>\n",
       "      <td>User logged in</td>\n",
       "      <td>2025-01-01 00:00:09.433</td>\n",
       "    </tr>\n",
       "    <tr>\n",
       "      <th>2</th>\n",
       "      <td>778739499</td>\n",
       "      <td>8835246</td>\n",
       "      <td>Authentication completed</td>\n",
       "      <td>2025-01-01 00:00:09.440</td>\n",
       "    </tr>\n",
       "    <tr>\n",
       "      <th>3</th>\n",
       "      <td>778739501</td>\n",
       "      <td>8835246</td>\n",
       "      <td>User logged in</td>\n",
       "      <td>2025-01-01 00:00:10.109</td>\n",
       "    </tr>\n",
       "    <tr>\n",
       "      <th>4</th>\n",
       "      <td>778739502</td>\n",
       "      <td>8835246</td>\n",
       "      <td>Authentication completed</td>\n",
       "      <td>2025-01-01 00:00:10.114</td>\n",
       "    </tr>\n",
       "  </tbody>\n",
       "</table>\n",
       "</div>"
      ],
      "text/plain": [
       "          id  user_id                      name                 date_mod\n",
       "0  778739492  5970559   Trade result successful  2025-01-01 00:00:08.018\n",
       "1  778739498  8835246            User logged in  2025-01-01 00:00:09.433\n",
       "2  778739499  8835246  Authentication completed  2025-01-01 00:00:09.440\n",
       "3  778739501  8835246            User logged in  2025-01-01 00:00:10.109\n",
       "4  778739502  8835246  Authentication completed  2025-01-01 00:00:10.114"
      ]
     },
     "execution_count": 5,
     "metadata": {},
     "output_type": "execute_result"
    }
   ],
   "source": [
    "user_events.head()"
   ]
  },
  {
   "cell_type": "code",
   "execution_count": 7,
   "metadata": {},
   "outputs": [],
   "source": [
    "# Преобразуем столбцы с датами в datetime\n",
    "user_events['date_mod'] = pd.to_datetime(user_events['date_mod'])\n"
   ]
  },
  {
   "cell_type": "code",
   "execution_count": 11,
   "metadata": {},
   "outputs": [],
   "source": [
    "# Анализ общей активности\n",
    "user_activity = user_events.groupby('user_id').agg(\n",
    "    total_events=('id', 'count'),\n",
    "    unique_events=('name', 'nunique'),\n",
    "    first_event_date=('date_mod', 'min'),\n",
    "    last_event_date=('date_mod', 'max'),\n",
    "    active_days=('date_mod', lambda x: x.dt.date.nunique())\n",
    ").reset_index()\n",
    "\n",
    "# Расчет дополнительных метрик\n",
    "user_activity['activity_duration_days'] = (user_activity['last_event_date'] - user_activity['first_event_date']).dt.days\n",
    "user_activity['events_per_day'] = user_activity['total_events'] / user_activity['activity_duration_days'].replace(0, 1)\n",
    "user_activity['avg_daily_events'] = user_activity['total_events'] / user_activity['active_days'].replace(0, 1)\n",
    "\n",
    "# Заменяем бесконечные значения на 0\n",
    "user_activity = user_activity.replace([np.inf, -np.inf], 0)"
   ]
  },
  {
   "cell_type": "code",
   "execution_count": 12,
   "metadata": {},
   "outputs": [
    {
     "data": {
      "text/html": [
       "<div>\n",
       "<style scoped>\n",
       "    .dataframe tbody tr th:only-of-type {\n",
       "        vertical-align: middle;\n",
       "    }\n",
       "\n",
       "    .dataframe tbody tr th {\n",
       "        vertical-align: top;\n",
       "    }\n",
       "\n",
       "    .dataframe thead th {\n",
       "        text-align: right;\n",
       "    }\n",
       "</style>\n",
       "<table border=\"1\" class=\"dataframe\">\n",
       "  <thead>\n",
       "    <tr style=\"text-align: right;\">\n",
       "      <th></th>\n",
       "      <th>user_id</th>\n",
       "      <th>total_events</th>\n",
       "      <th>unique_events</th>\n",
       "      <th>first_event_date</th>\n",
       "      <th>last_event_date</th>\n",
       "      <th>active_days</th>\n",
       "      <th>activity_duration_days</th>\n",
       "      <th>events_per_day</th>\n",
       "      <th>avg_daily_events</th>\n",
       "    </tr>\n",
       "  </thead>\n",
       "  <tbody>\n",
       "    <tr>\n",
       "      <th>0</th>\n",
       "      <td>151692</td>\n",
       "      <td>123</td>\n",
       "      <td>8</td>\n",
       "      <td>2025-01-15 16:20:32.654</td>\n",
       "      <td>2025-06-28 14:43:16.679</td>\n",
       "      <td>88</td>\n",
       "      <td>163</td>\n",
       "      <td>0.754601</td>\n",
       "      <td>1.397727</td>\n",
       "    </tr>\n",
       "    <tr>\n",
       "      <th>1</th>\n",
       "      <td>314546</td>\n",
       "      <td>5</td>\n",
       "      <td>4</td>\n",
       "      <td>2025-01-18 05:25:00.496</td>\n",
       "      <td>2025-05-19 15:05:26.468</td>\n",
       "      <td>3</td>\n",
       "      <td>121</td>\n",
       "      <td>0.041322</td>\n",
       "      <td>1.666667</td>\n",
       "    </tr>\n",
       "    <tr>\n",
       "      <th>2</th>\n",
       "      <td>399125</td>\n",
       "      <td>1</td>\n",
       "      <td>1</td>\n",
       "      <td>2025-01-18 04:16:48.089</td>\n",
       "      <td>2025-01-18 04:16:48.089</td>\n",
       "      <td>1</td>\n",
       "      <td>0</td>\n",
       "      <td>1.000000</td>\n",
       "      <td>1.000000</td>\n",
       "    </tr>\n",
       "    <tr>\n",
       "      <th>3</th>\n",
       "      <td>413506</td>\n",
       "      <td>1</td>\n",
       "      <td>1</td>\n",
       "      <td>2025-01-18 04:46:54.763</td>\n",
       "      <td>2025-01-18 04:46:54.763</td>\n",
       "      <td>1</td>\n",
       "      <td>0</td>\n",
       "      <td>1.000000</td>\n",
       "      <td>1.000000</td>\n",
       "    </tr>\n",
       "    <tr>\n",
       "      <th>4</th>\n",
       "      <td>775310</td>\n",
       "      <td>78</td>\n",
       "      <td>7</td>\n",
       "      <td>2025-01-18 08:26:07.463</td>\n",
       "      <td>2025-06-27 16:05:55.341</td>\n",
       "      <td>29</td>\n",
       "      <td>160</td>\n",
       "      <td>0.487500</td>\n",
       "      <td>2.689655</td>\n",
       "    </tr>\n",
       "  </tbody>\n",
       "</table>\n",
       "</div>"
      ],
      "text/plain": [
       "   user_id  total_events  unique_events        first_event_date  \\\n",
       "0   151692           123              8 2025-01-15 16:20:32.654   \n",
       "1   314546             5              4 2025-01-18 05:25:00.496   \n",
       "2   399125             1              1 2025-01-18 04:16:48.089   \n",
       "3   413506             1              1 2025-01-18 04:46:54.763   \n",
       "4   775310            78              7 2025-01-18 08:26:07.463   \n",
       "\n",
       "          last_event_date  active_days  activity_duration_days  \\\n",
       "0 2025-06-28 14:43:16.679           88                     163   \n",
       "1 2025-05-19 15:05:26.468            3                     121   \n",
       "2 2025-01-18 04:16:48.089            1                       0   \n",
       "3 2025-01-18 04:46:54.763            1                       0   \n",
       "4 2025-06-27 16:05:55.341           29                     160   \n",
       "\n",
       "   events_per_day  avg_daily_events  \n",
       "0        0.754601          1.397727  \n",
       "1        0.041322          1.666667  \n",
       "2        1.000000          1.000000  \n",
       "3        1.000000          1.000000  \n",
       "4        0.487500          2.689655  "
      ]
     },
     "execution_count": 12,
     "metadata": {},
     "output_type": "execute_result"
    }
   ],
   "source": [
    "user_activity.head()"
   ]
  },
  {
   "cell_type": "code",
   "execution_count": 13,
   "metadata": {},
   "outputs": [
    {
     "name": "stdout",
     "output_type": "stream",
     "text": [
      "<class 'pandas.core.frame.DataFrame'>\n",
      "RangeIndex: 419215 entries, 0 to 419214\n",
      "Data columns (total 9 columns):\n",
      " #   Column                  Non-Null Count   Dtype         \n",
      "---  ------                  --------------   -----         \n",
      " 0   user_id                 419215 non-null  int64         \n",
      " 1   total_events            419215 non-null  int64         \n",
      " 2   unique_events           419215 non-null  int64         \n",
      " 3   first_event_date        419215 non-null  datetime64[ns]\n",
      " 4   last_event_date         419215 non-null  datetime64[ns]\n",
      " 5   active_days             419215 non-null  int64         \n",
      " 6   activity_duration_days  419215 non-null  int64         \n",
      " 7   events_per_day          419215 non-null  float64       \n",
      " 8   avg_daily_events        419215 non-null  float64       \n",
      "dtypes: datetime64[ns](2), float64(2), int64(5)\n",
      "memory usage: 28.8 MB\n"
     ]
    }
   ],
   "source": [
    "user_activity.info()"
   ]
  }
 ],
 "metadata": {
  "kernelspec": {
   "display_name": "Python 3",
   "language": "python",
   "name": "python3"
  },
  "language_info": {
   "codemirror_mode": {
    "name": "ipython",
    "version": 3
   },
   "file_extension": ".py",
   "mimetype": "text/x-python",
   "name": "python",
   "nbconvert_exporter": "python",
   "pygments_lexer": "ipython3",
   "version": "3.9.10"
  }
 },
 "nbformat": 4,
 "nbformat_minor": 2
}
